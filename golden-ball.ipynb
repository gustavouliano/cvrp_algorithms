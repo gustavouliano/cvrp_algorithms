{
 "cells": [
  {
   "cell_type": "code",
   "execution_count": 13,
   "id": "dbc59946-2a75-4aea-ad74-44b9a241f228",
   "metadata": {},
   "outputs": [
    {
     "name": "stdout",
     "output_type": "stream",
     "text": [
      "Defaulting to user installation because normal site-packages is not writeable\n",
      "Requirement already satisfied: matplotlib in /home/gustavo/.local/lib/python3.10/site-packages (3.9.2)\n",
      "Requirement already satisfied: pyparsing>=2.3.1 in /usr/lib/python3/dist-packages (from matplotlib) (2.4.7)\n",
      "Requirement already satisfied: kiwisolver>=1.3.1 in /home/gustavo/.local/lib/python3.10/site-packages (from matplotlib) (1.4.7)\n",
      "Requirement already satisfied: contourpy>=1.0.1 in /home/gustavo/.local/lib/python3.10/site-packages (from matplotlib) (1.3.0)\n",
      "Requirement already satisfied: fonttools>=4.22.0 in /home/gustavo/.local/lib/python3.10/site-packages (from matplotlib) (4.53.1)\n",
      "Requirement already satisfied: pillow>=8 in /usr/lib/python3/dist-packages (from matplotlib) (9.0.1)\n",
      "Requirement already satisfied: numpy>=1.23 in /home/gustavo/.local/lib/python3.10/site-packages (from matplotlib) (2.1.1)\n",
      "Requirement already satisfied: python-dateutil>=2.7 in /home/gustavo/.local/lib/python3.10/site-packages (from matplotlib) (2.9.0.post0)\n",
      "Requirement already satisfied: packaging>=20.0 in /home/gustavo/.local/lib/python3.10/site-packages (from matplotlib) (24.1)\n",
      "Requirement already satisfied: cycler>=0.10 in /home/gustavo/.local/lib/python3.10/site-packages (from matplotlib) (0.12.1)\n",
      "Requirement already satisfied: six>=1.5 in /usr/lib/python3/dist-packages (from python-dateutil>=2.7->matplotlib) (1.16.0)\n",
      "Defaulting to user installation because normal site-packages is not writeable\n",
      "Requirement already satisfied: networkx in /home/gustavo/.local/lib/python3.10/site-packages (2.8.8)\n",
      "Defaulting to user installation because normal site-packages is not writeable\n",
      "Requirement already satisfied: tsplib95 in /home/gustavo/.local/lib/python3.10/site-packages (0.7.1)\n",
      "Requirement already satisfied: tabulate~=0.8.7 in /home/gustavo/.local/lib/python3.10/site-packages (from tsplib95) (0.8.10)\n",
      "Requirement already satisfied: Deprecated~=1.2.9 in /home/gustavo/.local/lib/python3.10/site-packages (from tsplib95) (1.2.14)\n",
      "Requirement already satisfied: Click>=6.0 in /usr/lib/python3/dist-packages (from tsplib95) (8.0.3)\n",
      "Requirement already satisfied: networkx~=2.1 in /home/gustavo/.local/lib/python3.10/site-packages (from tsplib95) (2.8.8)\n",
      "Requirement already satisfied: wrapt<2,>=1.10 in /home/gustavo/.local/lib/python3.10/site-packages (from Deprecated~=1.2.9->tsplib95) (1.16.0)\n",
      "Defaulting to user installation because normal site-packages is not writeable\n",
      "Collecting vrplib\n",
      "  Downloading vrplib-1.4.0-py3-none-any.whl (24 kB)\n",
      "Collecting numpy<2.0.0,>=1.19.3\n",
      "  Downloading numpy-1.26.4-cp310-cp310-manylinux_2_17_x86_64.manylinux2014_x86_64.whl (18.2 MB)\n",
      "\u001b[2K     \u001b[38;2;114;156;31m━━━━━━━━━━━━━━━━━━━━━━━━━━━━━━━━━━━━━━━━\u001b[0m \u001b[32m18.2/18.2 MB\u001b[0m \u001b[31m4.2 MB/s\u001b[0m eta \u001b[36m0:00:00\u001b[0mm eta \u001b[36m0:00:01\u001b[0m[36m0:00:01\u001b[0m\n",
      "\u001b[?25hInstalling collected packages: numpy, vrplib\n",
      "  Attempting uninstall: numpy\n",
      "    Found existing installation: numpy 2.1.1\n",
      "    Uninstalling numpy-2.1.1:\n",
      "      Successfully uninstalled numpy-2.1.1\n",
      "Successfully installed numpy-1.26.4 vrplib-1.4.0\n"
     ]
    }
   ],
   "source": [
    "!pip install matplotlib\n",
    "!pip install networkx\n",
    "!pip install tsplib95\n",
    "!pip install vrplib"
   ]
  },
  {
   "cell_type": "code",
   "execution_count": 31,
   "id": "36149825-6dd5-4d7c-9c77-deecd7215021",
   "metadata": {},
   "outputs": [],
   "source": [
    "import matplotlib.pyplot as plt\n",
    "import networkx as nx\n",
    "import tsplib95\n",
    "import itertools as it\n",
    "import random\n",
    "import vrplib\n",
    "import math\n",
    "from operator import attrgetter"
   ]
  },
  {
   "cell_type": "code",
   "execution_count": 3,
   "id": "50afb4aa-9055-43f8-b195-cc4d70ddd418",
   "metadata": {},
   "outputs": [],
   "source": [
    "def draw_graph(G):\n",
    "    pos = nx.circular_layout(G)\n",
    "    \n",
    "    nx.draw_networkx_nodes(G, pos,\n",
    "                           nodelist=[n for n, attr in G.nodes(data=True)],\n",
    "                           node_color='lightgreen',\n",
    "                           node_size=300)\n",
    "    \n",
    "    nx.draw_networkx_labels(G, pos, font_size=10)\n",
    "    nx.draw_networkx_edges(G, pos, edge_color='gray')\n",
    "    \n",
    "    labels = nx.get_edge_attributes(G,'distância')\n",
    "    nx.draw_networkx_edge_labels(G,pos,edge_labels=labels)\n",
    "    plt.axis('off')\n",
    "    plt.title(\"Exemplo grafo\")\n",
    "    plt.show()\n",
    "\n",
    "def draw_labeled_multigraph(G, attr_name, ax=None):\n",
    "    \"\"\"\n",
    "    Length of connectionstyle must be at least that of a maximum number of edges\n",
    "    between pair of nodes. This number is maximum one-sided connections\n",
    "    for directed graph and maximum total connections for undirected graph.\n",
    "    \"\"\"\n",
    "    # Works with arc3 and angle3 connectionstyles\n",
    "    connectionstyle = [f\"arc3,rad={r}\" for r in it.accumulate([0.15] * 4)]\n",
    "    # connectionstyle = [f\"angle3,angleA={r}\" for r in it.accumulate([30] * 4)]\n",
    "\n",
    "    pos = nx.shell_layout(G)\n",
    "    nx.draw_networkx_nodes(G, pos, ax=ax)\n",
    "    nx.draw_networkx_labels(G, pos, font_size=20, ax=ax)\n",
    "    nx.draw_networkx_edges(\n",
    "        G, pos, edge_color=\"grey\", connectionstyle=connectionstyle, ax=ax\n",
    "    )\n",
    "\n",
    "    labels = {\n",
    "        tuple(edge): f\"{attr_name}={attrs[attr_name]}\"\n",
    "        for *edge, attrs in G.edges(keys=True, data=True)\n",
    "    }\n",
    "    nx.draw_networkx_edge_labels(\n",
    "        G,\n",
    "        pos,\n",
    "        labels,\n",
    "        connectionstyle=connectionstyle,\n",
    "        label_pos=0.3,\n",
    "        font_color=\"blue\",\n",
    "        bbox={\"alpha\": 0},\n",
    "        ax=ax,\n",
    "    )\n",
    "\n"
   ]
  },
  {
   "cell_type": "code",
   "execution_count": 4,
   "id": "664648ca-34ea-4361-87d4-b628766d9b2e",
   "metadata": {},
   "outputs": [
    {
     "name": "stdout",
     "output_type": "stream",
     "text": [
      "[0, 1]\n"
     ]
    },
    {
     "data": {
      "image/png": "[encoded data removed]",
      "text/plain": [
       "<Figure size 640x480 with 1 Axes>"
      ]
     },
     "metadata": {},
     "output_type": "display_data"
    },
    {
     "data": {
      "text/plain": [
       "OutMultiEdgeDataView([(0, 1, {'weight': 10}), (1, 0, {'weight': 15})])"
      ]
     },
     "execution_count": 4,
     "metadata": {},
     "output_type": "execute_result"
    }
   ],
   "source": [
    "# Dados do problema\n",
    "vertices = [0, 1]\n",
    "print(vertices)\n",
    "\n",
    "# Adicionar vértices com atributos\n",
    "G = nx.MultiDiGraph()  # Grafo direcionado\n",
    "for i in vertices:\n",
    "    G.add_node(i)\n",
    "\n",
    "# Adicionar arestas com atributo de distância\n",
    "arestas = [\n",
    "    (0, 1, {\"distância\": 10}),\n",
    "    (1, 0, {\"distância\": 15}),\n",
    "\n",
    "]\n",
    "for aresta in arestas:\n",
    "    G.add_edge(aresta[0], aresta[1], weight=aresta[2]['distância'])\n",
    "# G.add_edges_from([(e[0], e[1], dict(e[2])) for e in arestas])\n",
    "# nx.set_edge_attributes(G, {(u, v): d for u, v, d in arestas})\n",
    "# draw_labeled_multigraph(G, \"distância\")\n",
    "# draw_graph(G)\n",
    "\n",
    "draw_graph(G)\n",
    "G.edges(data=True)"
   ]
  },
  {
   "cell_type": "code",
   "execution_count": 35,
   "id": "59a02d7d-6b23-4326-b175-b2360bf2d304",
   "metadata": {},
   "outputs": [
    {
     "name": "stdout",
     "output_type": "stream",
     "text": [
      "[   0 1100  700  800 1400 2100  400  800  100  500  600 1200 1300 1300\n",
      "  300  900 2100 1000  900 2500 1800  700]\n",
      "[0, 1]\n",
      "Distância:  28.284271247461902\n"
     ]
    },
    {
     "data": {
      "text/plain": [
       "OutMultiEdgeDataView([])"
      ]
     },
     "execution_count": 35,
     "metadata": {},
     "output_type": "execute_result"
    }
   ],
   "source": []
  },
  {
   "cell_type": "code",
   "execution_count": 62,
   "id": "8a01b448-6b72-40c7-a633-6a3862a1caaa",
   "metadata": {},
   "outputs": [
    {
     "name": "stdout",
     "output_type": "stream",
     "text": [
      "dict_keys(['name', 'comment', 'type', 'dimension', 'edge_weight_type', 'capacity', 'node_coord', 'demand', 'depot', 'edge_weight'])\n",
      "[   0 1100  700  800 1400 2100  400  800  100  500  600 1200 1300 1300\n",
      "  300  900 2100 1000  900 2500 1800  700]\n",
      "{'x': 151, 'y': 264, 'demand': 1100}\n"
     ]
    },
    {
     "data": {
      "image/png": "[encoded data removed]",
      "text/plain": [
       "<Figure size 640x480 with 1 Axes>"
      ]
     },
     "metadata": {},
     "output_type": "display_data"
    }
   ],
   "source": [
    "G = nx.MultiDiGraph()\n",
    "\n",
    "instance = vrplib.read_instance(\"./Vrp-Set-E/E/E-n22-k4.vrp\")\n",
    "print(instance.keys())\n",
    "demand = instance['demand']\n",
    "print(demand)\n",
    "nodes_coords = instance['node_coord']\n",
    "for i, (x, y) in enumerate(nodes_coords):\n",
    "    G.add_node(i, x=int(x), y=int(y), demand=int(demand[i]))\n",
    "\n",
    "G.edges(data=True)\n",
    "draw_graph(G)"
   ]
  },
  {
   "cell_type": "markdown",
   "id": "38dfb4a1-7040-4980-95d0-e4db635604da",
   "metadata": {},
   "source": [
    "## CLASSES"
   ]
  },
  {
   "cell_type": "code",
   "execution_count": 34,
   "id": "bfffd72d-d92c-41e6-bce2-781412463b6d",
   "metadata": {},
   "outputs": [],
   "source": [
    "# Função para calcular a distância entre dois nós\n",
    "def euclidean_distance(node1, node2):\n",
    "    x1, y1 = G.nodes[node1]['x'], G.nodes[node1]['y']\n",
    "    x2, y2 = G.nodes[node2]['x'], G.nodes[node2]['y']\n",
    "    \n",
    "    return math.sqrt((x2 - x1) ** 2 + (y2 - y1) ** 2)\n",
    "\n",
    "def calculate_path_qualitity(G, path):\n",
    "    qualitity = 0\n",
    "    for i in range(len(path) - 1):\n",
    "        node = path[i]\n",
    "        next_node = path[i + 1]\n",
    "        qualitity += euclidean_distance(node, next_node)\n",
    "    # Soma do último cliente visitado para voltar ao depósito\n",
    "    # qualitity += G[len(path) - 1][0][0]['weight']\n",
    "    return qualitity\n",
    "\n",
    "# def get_best_player_qualitity(teams):\n",
    "#     best_player = None\n",
    "#     for team in teams:\n",
    "#         for player in team.players:\n",
    "#             if best_player == None:\n",
    "#                 best_player = player\n",
    "#             elif player.qualitity < best_player.qualitity:\n",
    "#                 best_player = player\n",
    "#     return best_player\n",
    "\n",
    "def get_best_team_qualitity(teams):\n",
    "    best_team = None\n",
    "    for team in teams:\n",
    "        if best_team == None:\n",
    "            best_team = team\n",
    "        elif team.qualitity < best_team.qualitity:\n",
    "            best_team = team\n",
    "    return best_team\n",
    "\n",
    "class Player:\n",
    "    def __init__(self):\n",
    "        self.path = []\n",
    "        self.capacity = 0\n",
    "        self.qualitity = 0\n",
    "\n",
    "    def set_path(self, path):\n",
    "        self.path = path\n",
    "        \n",
    "    def calculate_qualitity(self, G):\n",
    "        self.qualitity = calculate_path_qualitity(G, self.path)\n",
    "        return self.qualitity\n",
    "        # self.qualitity = 0\n",
    "        # for i in range(len(self.path) - 1):\n",
    "        #     node = self.path[i]\n",
    "        #     next_node = self.path[i + 1]\n",
    "        #     self.qualitity += G[node][next_node][0]['weight']\n",
    "        # # Soma do último cliente visitado para voltar ao depósito\n",
    "        # self.qualitity += G[len(self.path) - 1][0][0]['weight']\n",
    "        # return self.qualitity\n",
    "\n",
    "    # def add_node(self, node):\n",
    "    #     self.nodes.append(node)\n",
    "\n",
    "class Team:\n",
    "    def __init__(self):\n",
    "        self.players = []\n",
    "        self.captain = None\n",
    "        self.qualitity = 0\n",
    "        self.points = 0\n",
    "\n",
    "    def add_player(self, player):\n",
    "        self.players.append(player)\n",
    "\n",
    "    def set_captain(self, player):\n",
    "        self.captain = player\n",
    "\n",
    "    def calculate_qualitity(self, G):\n",
    "        self.qualitity = 0\n",
    "        for index, player in enumerate(self.players):\n",
    "            player_qualitity = player.calculate_qualitity(G)\n",
    "            self.qualitity += player_qualitity\n",
    "            if index == 0:\n",
    "                self.captain = player\n",
    "            elif player_qualitity < self.captain.qualitity:\n",
    "                self.captain = player\n",
    "        return self.qualitity\n",
    "\n",
    "class Table:\n",
    "    def __init__(self, teams):\n",
    "        self.teams = teams\n",
    "\n",
    "    def match(self, team_a, team_b):\n",
    "        if team_a.qualitity < team_b.qualitity:\n",
    "            team_a.points += 3\n",
    "        elif team_b.qualitity < team_a.qualitity:\n",
    "            team_b.points += 3\n",
    "        else:\n",
    "            team_a.points += 1\n",
    "            team_b.points += 1\n",
    "    \n",
    "    def reset(self):\n",
    "        for team in self.teams:\n",
    "            team.points = 0"
   ]
  },
  {
   "cell_type": "markdown",
   "id": "bf5c587b-5d04-4ff8-bccf-968559c420bc",
   "metadata": {},
   "source": [
    "https://link.springer.com/article/10.1007/s10489-013-0512-y\n",
    "<br>Formato padrão files: http://comopt.ifi.uni-heidelberg.de/software/TSPLIB95/tsp95.pdf\n",
    "\n",
    "## Inicialização do grafo"
   ]
  },
  {
   "cell_type": "code",
   "execution_count": 6,
   "id": "b2a7e148-adc5-4cca-8193-07e97b499532",
   "metadata": {},
   "outputs": [
    {
     "data": {
      "image/png": "[encoded data removed]",
      "text/plain": [
       "<Figure size 640x480 with 1 Axes>"
      ]
     },
     "metadata": {},
     "output_type": "display_data"
    },
    {
     "data": {
      "text/plain": [
       "OutMultiEdgeDataView([(0, 0, {'weight': 0}), (0, 1, {'weight': 15}), (0, 2, {'weight': 10}), (0, 3, {'weight': 4}), (0, 4, {'weight': 15}), (0, 5, {'weight': 10}), (0, 6, {'weight': 2}), (1, 0, {'weight': 8}), (1, 1, {'weight': 0}), (1, 2, {'weight': 8}), (1, 3, {'weight': 2}), (1, 4, {'weight': 5}), (1, 5, {'weight': 8}), (1, 6, {'weight': 4}), (2, 0, {'weight': 10}), (2, 1, {'weight': 13}), (2, 2, {'weight': 0}), (2, 3, {'weight': 12}), (2, 4, {'weight': 3}), (2, 5, {'weight': 15}), (2, 6, {'weight': 5}), (3, 0, {'weight': 2}), (3, 1, {'weight': 21}), (3, 2, {'weight': 5}), (3, 3, {'weight': 0}), (3, 4, {'weight': 15}), (3, 5, {'weight': 7}), (3, 6, {'weight': 6}), (4, 0, {'weight': 9}), (4, 1, {'weight': 10}), (4, 2, {'weight': 15}), (4, 3, {'weight': 4}), (4, 4, {'weight': 0}), (4, 5, {'weight': 3}), (4, 6, {'weight': 12}), (5, 0, {'weight': 10}), (5, 1, {'weight': 9}), (5, 2, {'weight': 20}), (5, 3, {'weight': 3}), (5, 4, {'weight': 2}), (5, 5, {'weight': 0}), (5, 6, {'weight': 2}), (6, 0, {'weight': 12}), (6, 1, {'weight': 6}), (6, 2, {'weight': 13}), (6, 3, {'weight': 14}), (6, 4, {'weight': 9}), (6, 5, {'weight': 3}), (6, 6, {'weight': 0})])"
      ]
     },
     "execution_count": 6,
     "metadata": {},
     "output_type": "execute_result"
    }
   ],
   "source": [
    "vehicle_quantity = 2\n",
    "vehicle_capacity = 3\n",
    "players_quantity = 2\n",
    "teams_quantity = 2\n",
    "\n",
    "# Grafo multi direiconado\n",
    "G = nx.MultiDiGraph()\n",
    "\n",
    "matrix = [\n",
    "    [0, 15, 10, 4, 15, 10, 2],\n",
    "    [8, 0, 8, 2, 5, 8, 4],\n",
    "    [10, 13, 0, 12, 3, 15, 5],\n",
    "    [2, 21, 5, 0, 15, 7, 6],\n",
    "    [9, 10, 15, 4, 0, 3, 12],\n",
    "    [10, 9, 20, 3, 2, 0, 2],\n",
    "    [12, 6, 13, 14, 9, 3, 0],\n",
    "]\n",
    "\n",
    "for i in range(len(matrix)):\n",
    "    for j in range(len(matrix[0])):\n",
    "        G.add_edge(i, j, weight=matrix[i][j])\n",
    "\n",
    "draw_graph(G)\n",
    "G.edges(data=True)"
   ]
  },
  {
   "cell_type": "markdown",
   "id": "c92c488c-b437-45bc-8e67-867a7adf82f1",
   "metadata": {},
   "source": [
    "## Fase de Inicialização\n",
    "Trabalho com técnica: https://ieeexplore.ieee.org/document/7550764\n",
    "<br>\n",
    "The first step is the creation of a set of solutions, called P,\n",
    "which will make up the initial population. All solutions are\n",
    "created randomly and they are called player (pi)."
   ]
  },
  {
   "cell_type": "code",
   "execution_count": 7,
   "id": "ffee21cc-c1bf-4a35-be34-7d93524df4a9",
   "metadata": {},
   "outputs": [
    {
     "name": "stdout",
     "output_type": "stream",
     "text": [
      "Time 0 | Qualidade 81 | Capitão 40\n",
      "[0, 6, 3, 4, 0]\n",
      "Qualidade: 40\n",
      "[0, 2, 1, 5, 0]\n",
      "Qualidade: 41\n",
      "Time 1 | Qualidade 81 | Capitão 30\n",
      "[0, 2, 3, 1, 0]\n",
      "Qualidade: 51\n",
      "[0, 5, 6, 4, 0]\n",
      "Qualidade: 30\n"
     ]
    }
   ],
   "source": [
    "teams_quantity = 4\n",
    "\n",
    "\n",
    "# Inicialização e divisão dos jogadores em times\n",
    "teams = []\n",
    "for i in range(0, teams_quantity):\n",
    "    team = Team()\n",
    "    teams.append(team)\n",
    "    nodes_available = list(G)\n",
    "    nodes_available.pop(0) # Remoção do nodo depósito\n",
    "    for j in range(0, players_quantity):\n",
    "        player = Player()\n",
    "        team.add_player(player)\n",
    "        path = [0]\n",
    "        while player.capacity < vehicle_capacity:\n",
    "            node = random.choice(nodes_available)\n",
    "            nodes_available.remove(node)\n",
    "            path.append(node)\n",
    "            player.capacity += 1\n",
    "        path.append(0)\n",
    "        player.path = path\n",
    "\n",
    "# Visualização\n",
    "for index, team in enumerate(teams):\n",
    "    print(f\"Time {index} | Qualidade {team.calculate_qualitity(G)} | Capitão {team.captain.qualitity}\")\n",
    "    for player in team.players:\n",
    "        print(player.path)\n",
    "        print(f\"Qualidade: {player.calculate_qualitity(G)}\")\n"
   ]
  },
  {
   "cell_type": "markdown",
   "id": "ec7a747f-8a73-4f78-a456-772b7d0ad3e8",
   "metadata": {},
   "source": [
    "## Competição\n",
    "### Funções"
   ]
  },
  {
   "cell_type": "code",
   "execution_count": 8,
   "id": "ca1a7fe6-bcec-4c6b-9f57-85a9274f215d",
   "metadata": {},
   "outputs": [],
   "source": [
    "# Realiza a escolha aleatória de um elemento da lista com exceção do valor passado\n",
    "def choice_excluding(lst, exceptions):\n",
    "    possible_choices = [v for v in lst if v not in exceptions]\n",
    "    return random.choice(possible_choices)\n",
    "    \n",
    "# Realiza a troca de forma randômica entre dois clientes de diferentes \n",
    "def swap_move(player_a, player_b):\n",
    "    new_path_a = player_a.path[:]\n",
    "    new_path_b = player_b.path[:]\n",
    "    node_path_a = choice_excluding(new_path_a, [0])\n",
    "    node_path_b = choice_excluding(new_path_b, [0])\n",
    "    index_a = new_path_a.index(node_path_a)\n",
    "    index_b = new_path_b.index(node_path_b)\n",
    "    # TODO: Verificar capacidade do veículo para o novo caminho\n",
    "    new_path_a[index_a] = node_path_b\n",
    "    new_path_b[index_b] = node_path_a\n",
    "    qualitity_path_a = calculate_path_qualitity(G, new_path_a)\n",
    "    qualitity_path_b = calculate_path_qualitity(G, new_path_b)\n",
    "    # TODO: Verificar nos testes se não é melhor trocar os caminhos independente da qualidade final (remover condição)\n",
    "    # TODO: Verificar se apenas com 1 caminho sendo melhor deve-se trocar ainda assim\n",
    "    if qualitity_path_a < player_a.qualitity and qualitity_path_b < player_b.qualitity:\n",
    "        print(\"Mudou path swap_move\")\n",
    "        player_a.path = new_path_a\n",
    "        player_b.path = new_path_b\n",
    "        return True\n",
    "    return False\n",
    "\n",
    "# Realiza a troca da posição de forma randômica entre dois clientes de uma mesma rota.\n",
    "def shift_move(player):\n",
    "    new_path = player.path[:]\n",
    "    random_node_1 = choice_excluding(new_path, [0])\n",
    "    random_node_2 = choice_excluding(new_path, [0, random_node_1])\n",
    "    index_1 = new_path.index(random_node_1)\n",
    "    index_2 = new_path.index(random_node_2)\n",
    "    # TODO: Verificar capacidade do veículo para o novo caminho\n",
    "    new_path[index_1] = random_node_2\n",
    "    new_path[index_2] = random_node_1\n",
    "    qualitity_path = calculate_path_qualitity(G, new_path)\n",
    "    if qualitity_path < player.qualitity:\n",
    "        print(\"Mudou path shift_move\")\n",
    "        player.path = new_path\n",
    "        return True\n",
    "    return False\n",
    "    \n"
   ]
  },
  {
   "cell_type": "code",
   "execution_count": 9,
   "id": "992c997c-e798-4eb5-89d2-1264b7449146",
   "metadata": {
    "scrolled": true
   },
   "outputs": [],
   "source": [
    "\n",
    "# Partidas entre os times\n",
    "def match_playing(teams):\n",
    "    for i, team in enumerate(teams):\n",
    "        for j in range(i+1, len(teams)):\n",
    "            table.match(team, teams[j])\n",
    "\n",
    "def sort_teams_by_points(teams):\n",
    "    return sorted(teams, key=attrgetter('points'), reverse=True)\n",
    "\n",
    "def sort_players_by_qualitity(players):\n",
    "    return sorted(players, key=attrgetter('qualitity'))\n",
    "\n",
    "def transfer_teams(teams):\n",
    "    teams_ordered = sort_teams_by_points(teams)\n",
    "    for i in range(int(len(teams_ordered) / 2)):\n",
    "        team_a = teams_ordered[i]\n",
    "        team_b = teams_ordered[i + 1]\n",
    "        team_a_players_ordered = sort_players_by_qualitity(team_a.players)\n",
    "        team_b_players_ordered = sort_players_by_qualitity(team_b.players)\n",
    "        team_a_worse_player = team_a_players_ordered[len(team_a_players_ordered) - 1]\n",
    "        team_b_best_player = team_b_players_ordered[0]\n",
    "        team_a_qualitity = team_a.qualitity\n",
    "\n",
    "        # Guarda os paths dos players do time A\n",
    "        team_a_original_paths = []\n",
    "        for player in team_a.players:\n",
    "            team_a_original_paths.append(player.path[:])\n",
    "        \n",
    "        # Verificar valores diferentes entre o worse e best player\n",
    "        different_values_path = []\n",
    "        for i in team_a_worse_player.path:\n",
    "            equal = False\n",
    "            for j in team_b_best_player.path:\n",
    "                if i == j:\n",
    "                    equal = True\n",
    "            if not equal:\n",
    "                different_values_path.append(i)\n",
    "\n",
    "        # Faz a troca dos paths do melhor time B para o pior time A\n",
    "        team_a_worse_player.path = team_b_best_player.path\n",
    "\n",
    "        # Soma da nova qualidade e ajuste nos paths dos outros jogadores para não repetir valores\n",
    "        sum_new_qualitity = 0\n",
    "        for player in team_a.players:\n",
    "            if len(different_values_path) > 0:\n",
    "                # Não é o mesmo player\n",
    "                if player != team_a_worse_player:\n",
    "                    player.path = [different_values_path.pop(0) if node in team_a_worse_player.path and node != 0 else node for node in player.path]\n",
    "            sum_new_qualitity += player.calculate_qualitity(G)\n",
    "\n",
    "        # Se o time tiver piorado, retorna para os paths anteriores dos players\n",
    "        if sum_new_qualitity >  team_a_qualitity:\n",
    "            for player in team_a.players: \n",
    "                player.path = team_a_original_paths.pop(0)\n",
    "                player.calculate_qualitity(G)        \n"
   ]
  },
  {
   "cell_type": "markdown",
   "id": "c33f9349-52ae-42c3-9fca-64bbe4c9c24a",
   "metadata": {},
   "source": []
  },
  {
   "cell_type": "code",
   "execution_count": 10,
   "id": "7957545a-4e72-46d4-acc5-15d26dc4e45e",
   "metadata": {},
   "outputs": [
    {
     "name": "stdout",
     "output_type": "stream",
     "text": [
      "Best first team: 81\n",
      "Mudou path shift_move\n",
      "Mudou path shift_move\n",
      "Mudou path shift_move\n",
      "Mudou path shift_move\n",
      "Mudou path swap_move\n",
      "Best new team after algorithm:  46\n",
      "[0, 3, 2, 1, 0]\n",
      "[0, 6, 5, 4, 0]\n"
     ]
    }
   ],
   "source": [
    "table = Table(teams)\n",
    "\n",
    "first_best_team = get_best_team_qualitity(teams)\n",
    "print(\"Best first team:\", first_best_team.qualitity)\n",
    "\n",
    "for i in range(1000):\n",
    "    pass\n",
    "    table.reset()\n",
    "    \n",
    "    # Período de treinamento\n",
    "    for team in teams:\n",
    "        player_a = random.choice(team.players)\n",
    "        player_b = random.choice(team.players)\n",
    "        while player_b == player_a:\n",
    "            player_b = random.choice(team.players)\n",
    "        if swap_move(player_a, player_b):\n",
    "            team.calculate_qualitity(G)\n",
    "        player = random.choice(team.players)\n",
    "        if shift_move(player):\n",
    "            team.calculate_qualitity(G)\n",
    "            \n",
    "    # Período de competição\n",
    "    match_playing(teams)\n",
    "    # Período de transferência\n",
    "    transfer_teams(teams)\n",
    "    # match_playing(teams)\n",
    "\n",
    "\n",
    "new_best_team = get_best_team_qualitity(teams)\n",
    "print(\"Best new team after algorithm: \", new_best_team.qualitity)\n",
    "for player in new_best_team.players:\n",
    "    print(player.path)"
   ]
  },
  {
   "cell_type": "code",
   "execution_count": 11,
   "id": "759593a8-5d38-492c-9027-5fd91f748b6c",
   "metadata": {},
   "outputs": [
    {
     "name": "stdout",
     "output_type": "stream",
     "text": [
      "3\n"
     ]
    }
   ],
   "source": [
    "arr = [3, 5, 1]\n",
    "a = arr.pop(0)\n",
    "print(a)"
   ]
  },
  {
   "cell_type": "code",
   "execution_count": null,
   "id": "940f29a7-a02b-4ad2-8c6c-1cd462b9a857",
   "metadata": {},
   "outputs": [],
   "source": []
  },
  {
   "cell_type": "code",
   "execution_count": null,
   "id": "d5ebc2fc-9bc3-482a-8b14-c31a7b8988fe",
   "metadata": {},
   "outputs": [],
   "source": []
  }
 ],
 "metadata": {
  "kernelspec": {
   "display_name": "Python 3 (ipykernel)",
   "language": "python",
   "name": "python3"
  },
  "language_info": {
   "codemirror_mode": {
    "name": "ipython",
    "version": 3
   },
   "file_extension": ".py",
   "mimetype": "text/x-python",
   "name": "python",
   "nbconvert_exporter": "python",
   "pygments_lexer": "ipython3",
   "version": "3.10.12"
  }
 },
 "nbformat": 4,
 "nbformat_minor": 5
}
